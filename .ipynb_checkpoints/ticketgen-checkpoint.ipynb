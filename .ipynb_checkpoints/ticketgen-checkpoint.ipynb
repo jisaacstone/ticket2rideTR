{
 "cells": [
  {
   "cell_type": "code",
   "execution_count": 5,
   "id": "a29e3679",
   "metadata": {},
   "outputs": [],
   "source": [
    "from pandas.core.indexes.interval import date_range\n",
    "#from pandas import read_csv\n",
    "from pandas import DataFrame\n",
    "\n",
    "dta = DataFrame([['Istanbul', 'Eskisehir', 2, False],\n",
    "                 ['Ankara', 'Eskisehir', 2, False]])\n",
    "\n",
    "expected_tickets = [['Eskisehir', 'Istanbul', 2], ['Ankara', 'Eskisehir', 2], ['Ankara', 'Istanbul', 4]]\n",
    "\n",
    "class Graph:\n",
    "    def __init__(self):\n",
    "        \"\"\"\n",
    "        TODO parse dta into graph\n",
    "        \"\"\"\n",
    "        self.graph = {'Ankara': [['Eskisehir', 2]], \n",
    "                 'Eskisehir': [['Ankara'], 2], ['Istanbul', 2]],\n",
    "                 'Istanbul': [['Eskisehir', 2]]}\n",
    "\n",
    "    \n",
    "    #Find all pairwise combinations of the nodes\n",
    "    pass\n",
    "\n",
    "\n",
    "def find_shortest_paths(graph):\n",
    "    pass\n",
    "\n",
    "\n",
    "def main():\n",
    "    graph = \n",
    "    \n",
    "    nodes = get_all_nodes(graph)\n",
    "    \n",
    "    tickets = []\n",
    "    for n,i in enumerate(nodes):\n",
    "        for n2 in nodes[i+1:]:\n",
    "            tickets.append(find_shortest_path(n, n2, graph))\n",
    "            \n",
    "            \n",
    "\n"
   ]
  },
  {
   "cell_type": "code",
   "execution_count": null,
   "id": "15f35570",
   "metadata": {},
   "outputs": [],
   "source": []
  }
 ],
 "metadata": {
  "kernelspec": {
   "display_name": "Python 3 (ipykernel)",
   "language": "python",
   "name": "python3"
  },
  "language_info": {
   "codemirror_mode": {
    "name": "ipython",
    "version": 3
   },
   "file_extension": ".py",
   "mimetype": "text/x-python",
   "name": "python",
   "nbconvert_exporter": "python",
   "pygments_lexer": "ipython3",
   "version": "3.11.3"
  }
 },
 "nbformat": 4,
 "nbformat_minor": 5
}
